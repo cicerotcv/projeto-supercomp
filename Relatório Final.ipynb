{
 "cells": [
  {
   "cell_type": "markdown",
   "metadata": {},
   "source": [
    "# Relatório Parcial\n",
    "\n",
    "Supercomputação - Cicero Tiago"
   ]
  },
  {
   "cell_type": "markdown",
   "metadata": {},
   "source": [
    "Arquivos Relevantes:\n",
    "\n",
    "- `tools.py`\n",
    "- `results.json`\n",
    "- `entradas/*`"
   ]
  },
  {
   "cell_type": "markdown",
   "metadata": {},
   "source": [
    "### Entregáveis\n",
    "\n",
    "- **Código-fonte da implementação sequencial e da implementação paralela**:\\\n",
    "  Todo o código fonte da implementação está contido nas pastas numeradas;\n",
    "\n",
    "- **Arquivos de testes utilizados**:\\\n",
    "  Os arquivos de testes utilizados estão contidos na pasta `entradas/`;"
   ]
  },
  {
   "cell_type": "markdown",
   "metadata": {},
   "source": [
    "## Escolha do algoritmo a ser paralelizado"
   ]
  },
  {
   "cell_type": "markdown",
   "metadata": {},
   "source": [
    "A escolha do algoritmo a ser refatorado com a utilização da biblioteca OpenMP levou em consideração principalmente 2 fatores:\n",
    "\n",
    "- Quantidade de loops iterações independentes;\n",
    "- Quantidade de trechos necessariamente sequenciais;\n",
    "\n",
    "Com isso, o algoritmo escolhido foi o de busca exaustiva, pois executa muitas repetições paralelizáveis e demanda muito _tempo de cpu_.\n",
    "\n",
    "Além disso, um terceiro fator que se mostrou relevante foi que a tentativa de paralelizar alguns loops parecia trazer um _overhead_ que aumentava o tempo de processamento ao invés de diminuir."
   ]
  },
  {
   "cell_type": "code",
   "execution_count": 9,
   "metadata": {},
   "outputs": [],
   "source": [
    "# -*- encoding :: UTF-8 -*-\n",
    "\n",
    "import os\n",
    "import matplotlib.pyplot as plt\n",
    "import numpy as np\n",
    "import json\n",
    "from tools import Result, generate_input, get_executables, get_input_files, get_input_size, run_executable\n",
    "import json"
   ]
  },
  {
   "cell_type": "code",
   "execution_count": 10,
   "metadata": {},
   "outputs": [],
   "source": [
    "def get_executables(folders=[], executable_name=['parallel', 'sequential']):\n",
    "    executables = []\n",
    "    for exec_name in executable_name:\n",
    "        executables += [os.path.join(folder, exec_name) for folder in folders]\n",
    "    executables.sort()\n",
    "    return executables"
   ]
  },
  {
   "cell_type": "markdown",
   "metadata": {},
   "source": [
    "### Gerando os arquivos de entrada"
   ]
  },
  {
   "cell_type": "code",
   "execution_count": null,
   "metadata": {},
   "outputs": [],
   "source": [
    "def generate_input_files():\n",
    "    \"\"\"Gera arquivos de entrada em lote\"\"\"\n",
    "    # todos os valores de 1 a 50\n",
    "    for i in range(1, 50):\n",
    "        generate_input(i, i)\n",
    "\n",
    "    # pares de 50 a 60\n",
    "    for i in range(50, 61, 2):\n",
    "        generate_input(i, i)\n",
    "\n",
    "    # multiplos de 3 de 60 a 70\n",
    "    for i in range(61, 70, 3):\n",
    "        generate_input(i, i)\n",
    "    \n",
    "    # multiplos de 10 de 70 a 100\n",
    "    for i in range(70, 101, 10):\n",
    "        generate_input(i, i) \n",
    "\n",
    "# generate_input_files()"
   ]
  },
  {
   "cell_type": "code",
   "execution_count": 51,
   "metadata": {},
   "outputs": [],
   "source": [
    "def process():\n",
    "    input_files = get_input_files('entradas')\n",
    "\n",
    "    # project_folders = ['01-heuristica', '02-busca-local', '03-busca-exaustiva']\n",
    "    project_folders = [\"04-openmp\"]\n",
    "\n",
    "    # lista de arquivos executáveis\n",
    "    executables = get_executables(project_folders)\n",
    "\n",
    "    results = []\n",
    "\n",
    "    # executa todos os arquivos de entrada em todos os algoritmos\n",
    "    for exe in executables:\n",
    "        for input_file in input_files:\n",
    "            input_size = get_input_size(input_file)\n",
    "            proc, execution_time = run_executable(exe, input_file)\n",
    "            result_name = os.path.basename(exe)\n",
    "            result = Result(result_name, input_size, execution_time)\n",
    "            results.append(result)\n",
    "            print(result)\n",
    "\n",
    "    # formata e salva os um JSON com resultados\n",
    "    groups = {}\n",
    "    for result in results:\n",
    "        group_name = result.executable\n",
    "        if group_name not in groups:\n",
    "            groups[group_name] = []\n",
    "        item = {\"input_size\": result.input_size, \"exec_time\": result.exec_time}\n",
    "        groups[group_name].append(item)\n",
    "\n",
    "    with open(\"04-results.json\", 'w+', encoding='utf-8') as output_file:\n",
    "        output_file.write(json.dumps(groups))\n",
    "\n",
    "# Leva cerca de 35 minutos pra rodar\n",
    "# process()"
   ]
  },
  {
   "cell_type": "markdown",
   "metadata": {},
   "source": [
    "Carrega o arquivo de resultados"
   ]
  },
  {
   "cell_type": "code",
   "execution_count": 20,
   "metadata": {},
   "outputs": [],
   "source": [
    "with open(\"04-results.json\", 'r', encoding='utf-8') as results_file:\n",
    "    results = json.loads(results_file.read())"
   ]
  },
  {
   "cell_type": "markdown",
   "metadata": {},
   "source": [
    "Formata de modo conveniente para plotar"
   ]
  },
  {
   "cell_type": "code",
   "execution_count": 48,
   "metadata": {},
   "outputs": [],
   "source": [
    "groups = {}\n",
    "for group_name, values in results.items():\n",
    "    groups[group_name] = np.array( [ [ item['input_size'], item['exec_time'] ] for item in values ] )"
   ]
  },
  {
   "cell_type": "markdown",
   "metadata": {},
   "source": [
    "Plotagem de (tamanho de entrada)x(tempo de execução)"
   ]
  },
  {
   "cell_type": "code",
   "execution_count": 52,
   "metadata": {},
   "outputs": [
    {
     "data": {
      "image/png": "[encoded data removed]",
      "text/plain": [
       "<Figure size 432x288 with 2 Axes>"
      ]
     },
     "metadata": {
      "needs_background": "light"
     },
     "output_type": "display_data"
    }
   ],
   "source": [
    "ax1 = plt.subplot()\n",
    "ax2 = ax1.twinx()\n",
    "\n",
    "for group, array in groups.items():\n",
    "    ax1.plot(array[:, 0], array[:, 1], label=group)\n",
    "\n",
    "speedup =  groups[\"sequential\"][:, 1] / groups[\"parallel\"][:, 1]\n",
    "\n",
    "ax2.plot(array[:, 0], speedup, label=\"speedup\", color='red')\n",
    "\n",
    "\n",
    "plt.title(\"Comparação de tempo entre os algoritmos\")\n",
    "plt.xlabel(\"Tamanho das entradas\")\n",
    "plt.ylabel(\"Tempo de execução (s)\")\n",
    "plt.legend()\n",
    "plt.grid()\n",
    "plt.show()\n"
   ]
  },
  {
   "cell_type": "markdown",
   "metadata": {},
   "source": [
    "---"
   ]
  },
  {
   "cell_type": "markdown",
   "metadata": {},
   "source": [
    "Para analisar os scripts compilados, foi utilizada a ferramenta de profiling ***valgrind*** conforme o exemplo abaixo, mas o resultado obtido não foi muito esclarecedor a não ser pelo alto número de operações (ordem de bilhões para o algoritmo de busca exaustiva).\n",
    "\n",
    "```shell\n",
    "# exemplo\n",
    "$ valgrind --tool=callgrind ./03-busca-exaustiva/script < entradas/0030x0030.seq\n",
    "$ callgrind_annotate ./03-busca-exaustiva/callgrind.out.68337 ./03-busca-exaustiva/main.cpp\n",
    "```"
   ]
  },
  {
   "cell_type": "markdown",
   "metadata": {},
   "source": [
    "#### Considerações sobre os scripts\n",
    "\n",
    "Em geral, os scripts desenvolvidos utilizam muitos loops e alguns deles são desnecessários ou realizam tarefas como preparara a saída do programa.\n",
    "\n",
    "**01 - Heurística de Alinhamento Smith-Waterman**\n",
    "\n",
    "--\n",
    "\n",
    "**02 - Busca Local (Aleatorização)**\n",
    "\n",
    "O código desse algoritmo utiliza uma versão um pouco mais limpa do anterior (descarta chamadas de `std::cout` desnecessárias para a comparação), mas certamente devolve um resultado de qualidade inferior _by design_. Isso poderia ser melhorado se ele fosse executado várias vezes e o melhor dos resultados fosse escolhido.\n",
    "\n",
    "**03 - Busca Exaustiva**\n",
    "\n",
    "De longe é, dentre os 3, o que mais realiza operações, pois gera todas as subsequêcias possíveis para cada uma das sequências grandes e utiliza 2 métodos diferentes para comparar cada par de subsquências geradas.\n",
    "\n"
   ]
  }
 ],
 "metadata": {
  "interpreter": {
   "hash": "916dbcbb3f70747c44a77c7bcd40155683ae19c65e1c03b4aa3499c5328201f1"
  },
  "kernelspec": {
   "display_name": "Python 3.8.10 64-bit",
   "language": "python",
   "name": "python3"
  },
  "language_info": {
   "codemirror_mode": {
    "name": "ipython",
    "version": 3
   },
   "file_extension": ".py",
   "mimetype": "text/x-python",
   "name": "python",
   "nbconvert_exporter": "python",
   "pygments_lexer": "ipython3",
   "version": "3.8.10"
  },
  "orig_nbformat": 4
 },
 "nbformat": 4,
 "nbformat_minor": 2
}
