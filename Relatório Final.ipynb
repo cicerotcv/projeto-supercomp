{
 "cells": [
  {
   "cell_type": "markdown",
   "metadata": {},
   "source": [
    "# Relatório Final - OpenMP\n",
    "\n",
    "Supercomputação - Cicero Tiago"
   ]
  },
  {
   "cell_type": "markdown",
   "metadata": {},
   "source": [
    "Arquivos Relevantes:\n",
    "\n",
    "- `tools.py`\n",
    "- `results.json`\n",
    "- `entradas/*`"
   ]
  },
  {
   "cell_type": "markdown",
   "metadata": {},
   "source": [
    "### Entregáveis\n",
    "\n",
    "- **Código-fonte da implementação sequencial e da implementação paralela**:\\\n",
    "  Todo o código fonte da implementação está contido nas pastas numeradas;\n",
    "\n",
    "- **Arquivos de testes utilizados**:\\\n",
    "  Os arquivos de testes utilizados estão contidos na pasta `entradas/`;"
   ]
  },
  {
   "cell_type": "markdown",
   "metadata": {},
   "source": [
    "## Escolha do algoritmo a ser paralelizado"
   ]
  },
  {
   "cell_type": "markdown",
   "metadata": {},
   "source": [
    "A escolha do algoritmo a ser refatorado com a utilização da biblioteca OpenMP levou em consideração principalmente 2 fatores:\n",
    "\n",
    "- Quantidade de loops iterações independentes;\n",
    "- Quantidade de trechos necessariamente sequenciais;\n",
    "\n",
    "Com isso, o algoritmo escolhido foi o de busca exaustiva, pois executa muitas repetições paralelizáveis e demanda muito _tempo de cpu_.\n",
    "\n",
    "Além disso, um terceiro fator que se mostrou relevante foi que a tentativa de paralelizar alguns loops parecia trazer um _overhead_ que aumentava o tempo de processamento ao invés de diminuir."
   ]
  },
  {
   "cell_type": "markdown",
   "metadata": {},
   "source": [
    "### Regiões Paralelizadas\n",
    "\n",
    "#### 1ª Região: Chamada de geração de subsequências\n",
    "\n",
    "```cpp\n",
    "#pragma omp parallel\n",
    "{\n",
    "  #pragma omp master\n",
    "  {\n",
    "    #pragma omp task\n",
    "      generate_subsequences(&sn, a);\n",
    "    #pragma omp task\n",
    "      generate_subsequences(&sm, b);\n",
    "  }\n",
    "}\n",
    "```\n",
    "\n",
    "\n",
    "#### 2ª Região: Função que gera subsequências\n",
    "\n",
    "```cpp\n",
    "void generate_subsequences(std::vector<Sequence>* destination, std::string sequence) {\n",
    "  const int N = sequence.length();\n",
    "  // paraleliza o loop\n",
    "  #pragma omp parallel for \n",
    "  for (int length = 1; length <= N; length++) {\n",
    "    for (int pos = 0; pos <= N - length; pos++) {\n",
    "      std::string value(sequence.substr(pos, length));\n",
    "      Sequence sequence = {length, value};\n",
    "      // garante que apenas uma thread por vez vai executar esse bloco\n",
    "      #pragma omp critical\n",
    "      { destination->push_back(sequence); }\n",
    "    }\n",
    "  }\n",
    "}\n",
    "```\n",
    "\n",
    "#### 3ª Região: Função que calcula score\n",
    "\n",
    "```cpp\n",
    "void calculate_score(std::vector<Sequence> set_a,\n",
    "                     std::vector<Sequence> set_b,\n",
    "                     int (*method)(std::string sa, std::string sb), \n",
    "                     Result* result) {\n",
    "  #pragma omp parallel\n",
    "  {\n",
    "    #pragma omp for\n",
    "    for (Sequence sa : set_a) {\n",
    "      for (Sequence sb : set_b) {\n",
    "        int score = method(sa.value, sb.value);\n",
    "        if (score > result->score) {\n",
    "          result->score = score;\n",
    "          result->seq1 = sa.value;\n",
    "          result->seq2 = sb.value;\n",
    "        }\n",
    "      }\n",
    "    }\n",
    "  }\n",
    "}\n",
    "```\n",
    "\n",
    "\n",
    "\n",
    "\n"
   ]
  },
  {
   "cell_type": "code",
   "execution_count": 9,
   "metadata": {},
   "outputs": [],
   "source": [
    "# -*- encoding :: UTF-8 -*-\n",
    "\n",
    "import os\n",
    "import matplotlib.pyplot as plt\n",
    "import numpy as np\n",
    "import json\n",
    "from tools import Result, generate_input, get_executables, get_input_files, get_input_size, run_executable\n",
    "import json"
   ]
  },
  {
   "cell_type": "code",
   "execution_count": 10,
   "metadata": {},
   "outputs": [],
   "source": [
    "def get_executables(folders=[], executable_name=['parallel', 'sequential']):\n",
    "    executables = []\n",
    "    for exec_name in executable_name:\n",
    "        executables += [os.path.join(folder, exec_name) for folder in folders]\n",
    "    executables.sort()\n",
    "    return executables"
   ]
  },
  {
   "cell_type": "markdown",
   "metadata": {},
   "source": [
    "### Gerando os arquivos de entrada"
   ]
  },
  {
   "cell_type": "code",
   "execution_count": null,
   "metadata": {},
   "outputs": [],
   "source": [
    "def generate_input_files():\n",
    "    \"\"\"Gera arquivos de entrada em lote\"\"\"\n",
    "    # todos os valores de 1 a 50\n",
    "    for i in range(1, 50):\n",
    "        generate_input(i, i)\n",
    "\n",
    "    # pares de 50 a 60\n",
    "    for i in range(50, 61, 2):\n",
    "        generate_input(i, i)\n",
    "\n",
    "    # multiplos de 3 de 60 a 70\n",
    "    for i in range(61, 70, 3):\n",
    "        generate_input(i, i)\n",
    "    \n",
    "    # multiplos de 10 de 70 a 100\n",
    "    for i in range(70, 101, 10):\n",
    "        generate_input(i, i) \n",
    "\n",
    "# generate_input_files()"
   ]
  },
  {
   "cell_type": "code",
   "execution_count": 74,
   "metadata": {},
   "outputs": [],
   "source": [
    "def process():\n",
    "    input_files = get_input_files('entradas')\n",
    "\n",
    "    # project_folders = ['01-heuristica', '02-busca-local', '03-busca-exaustiva']\n",
    "    project_folders = [\"04-openmp\"]\n",
    "\n",
    "    # lista de arquivos executáveis\n",
    "    executables = get_executables(project_folders)\n",
    "\n",
    "    results = []\n",
    "\n",
    "    # executa todos os arquivos de entrada em todos os algoritmos\n",
    "    for exe in executables:\n",
    "        for input_file in input_files:\n",
    "            input_size = get_input_size(input_file)\n",
    "            _, execution_time = run_executable(exe, input_file)\n",
    "            result_name = os.path.basename(exe)\n",
    "            result = Result(result_name, input_size, execution_time)\n",
    "            results.append(result)\n",
    "            print(result)\n",
    "\n",
    "    # formata e salva os um JSON com resultados\n",
    "    groups = {}\n",
    "    for result in results:\n",
    "        group_name = result.executable\n",
    "        if group_name not in groups:\n",
    "            groups[group_name] = []\n",
    "        item = {\"input_size\": result.input_size, \"exec_time\": result.exec_time}\n",
    "        groups[group_name].append(item)\n",
    "\n",
    "    with open(\"./04-results.json\", 'w+', encoding='utf-8') as output_file:\n",
    "        output_file.write(json.dumps(groups))\n",
    "\n",
    "# Leva cerca de 35 minutos pra rodar\n",
    "# process()"
   ]
  },
  {
   "cell_type": "markdown",
   "metadata": {},
   "source": [
    "Carrega o arquivo de resultados"
   ]
  },
  {
   "cell_type": "code",
   "execution_count": 20,
   "metadata": {},
   "outputs": [],
   "source": [
    "with open(\"04-results.json\", 'r', encoding='utf-8') as results_file:\n",
    "    results = json.loads(results_file.read())"
   ]
  },
  {
   "cell_type": "markdown",
   "metadata": {},
   "source": [
    "Formata de modo conveniente para plotar"
   ]
  },
  {
   "cell_type": "code",
   "execution_count": 48,
   "metadata": {},
   "outputs": [],
   "source": [
    "groups = {}\n",
    "for group_name, values in results.items():\n",
    "    groups[group_name] = np.array( [ [ item['input_size'], item['exec_time'] ] for item in values ] )"
   ]
  },
  {
   "cell_type": "markdown",
   "metadata": {},
   "source": [
    "Plotagem de (tamanho de entrada)x(tempo de execução)"
   ]
  },
  {
   "cell_type": "code",
   "execution_count": 72,
   "metadata": {},
   "outputs": [
    {
     "data": {
      "image/png": "[encoded data removed]",
      "text/plain": [
       "<Figure size 720x432 with 2 Axes>"
      ]
     },
     "metadata": {
      "needs_background": "light"
     },
     "output_type": "display_data"
    }
   ],
   "source": [
    "fig, ax1 = plt.subplots()\n",
    "fig.set_figwidth(10)\n",
    "fig.set_figheight(6)\n",
    "ax2 = ax1.twinx()\n",
    "\n",
    "for group, array in groups.items():\n",
    "    ax1.plot(array[:, 0], array[:, 1], label=group)\n",
    "\n",
    "speedup =  groups[\"sequential\"][:, 1] / groups[\"parallel\"][:, 1]\n",
    "\n",
    "ax2.plot(array[:, 0], speedup, label=\"speedup\", color='red')\n",
    "\n",
    "\n",
    "plt.title(\"Comparação de tempo entre os algoritmos\")\n",
    "ax1.set_xlabel(\"Tamanho das entradas\")\n",
    "ax1.set_ylabel(\"Tempo de execução (s)\")\n",
    "ax2.set_ylabel(\"Fator de speedup\")\n",
    "ax1.legend()\n",
    "ax2.legend()\n",
    "plt.grid()\n",
    "plt.show()\n"
   ]
  },
  {
   "cell_type": "markdown",
   "metadata": {},
   "source": [
    "Observando o gráfico acima, pode-se notar que o crescimento do tempo de execução é amortecido pela paralelização dos trechos mais lentos do código."
   ]
  }
 ],
 "metadata": {
  "interpreter": {
   "hash": "916dbcbb3f70747c44a77c7bcd40155683ae19c65e1c03b4aa3499c5328201f1"
  },
  "kernelspec": {
   "display_name": "Python 3.8.10 64-bit",
   "language": "python",
   "name": "python3"
  },
  "language_info": {
   "codemirror_mode": {
    "name": "ipython",
    "version": 3
   },
   "file_extension": ".py",
   "mimetype": "text/x-python",
   "name": "python",
   "nbconvert_exporter": "python",
   "pygments_lexer": "ipython3",
   "version": "3.8.10"
  },
  "orig_nbformat": 4
 },
 "nbformat": 4,
 "nbformat_minor": 2
}
