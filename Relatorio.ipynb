{
 "cells": [
  {
   "cell_type": "code",
   "execution_count": 12,
   "metadata": {},
   "outputs": [],
   "source": [
    "import subprocess\n",
    "import time\n",
    "import os"
   ]
  },
  {
   "cell_type": "code",
   "execution_count": 92,
   "metadata": {},
   "outputs": [],
   "source": [
    "def run_executable(executable_path:str, input_path:str):\n",
    "    with open(input_path) as f:\n",
    "        start = time.perf_counter()\n",
    "        proc = subprocess.run([executable_path], input=f.read(), text=True, capture_output=subprocess.DEVNULL)\n",
    "        end = time.perf_counter()\n",
    "\n",
    "        # print('Tempo total(s):', end - start, f\"[{executable_path}][{input_path}]\")\n",
    "        return proc, end - start"
   ]
  },
  {
   "cell_type": "code",
   "execution_count": 93,
   "metadata": {},
   "outputs": [],
   "source": [
    "def get_input_files(input_dir='entradas'):\n",
    "    input_paths = [ os.path.join(input_dir, input_filename) for input_filename in os.listdir(input_dir) ]\n",
    "    input_paths.sort()\n",
    "    return input_paths\n",
    "\n",
    "def get_executables(folders=[], executable_name='script'):\n",
    "    executables = [os.path.join(folder, executable_name) for folder in folders]\n",
    "    executables.sort()\n",
    "    return executables"
   ]
  },
  {
   "cell_type": "code",
   "execution_count": 94,
   "metadata": {},
   "outputs": [],
   "source": [
    "input_files = get_input_files('entradas')[:2]"
   ]
  },
  {
   "cell_type": "code",
   "execution_count": 95,
   "metadata": {},
   "outputs": [],
   "source": [
    "project_folders = ['01-heuristica', '02-busca-local', '03-busca-exaustiva']\n",
    "executables = get_executables(project_folders, 'script')"
   ]
  },
  {
   "cell_type": "code",
   "execution_count": 96,
   "metadata": {},
   "outputs": [],
   "source": [
    "for exe in executables:\n",
    "    for input_file in input_files:\n",
    "        proc, out = run_executable(exe, input_file)"
   ]
  },
  {
   "cell_type": "code",
   "execution_count": null,
   "metadata": {},
   "outputs": [],
   "source": []
  },
  {
   "cell_type": "code",
   "execution_count": null,
   "metadata": {},
   "outputs": [],
   "source": []
  }
 ],
 "metadata": {
  "interpreter": {
   "hash": "916dbcbb3f70747c44a77c7bcd40155683ae19c65e1c03b4aa3499c5328201f1"
  },
  "kernelspec": {
   "display_name": "Python 3.8.10 64-bit",
   "language": "python",
   "name": "python3"
  },
  "language_info": {
   "codemirror_mode": {
    "name": "ipython",
    "version": 3
   },
   "file_extension": ".py",
   "mimetype": "text/x-python",
   "name": "python",
   "nbconvert_exporter": "python",
   "pygments_lexer": "ipython3",
   "version": "3.8.10"
  },
  "orig_nbformat": 4
 },
 "nbformat": 4,
 "nbformat_minor": 2
}
