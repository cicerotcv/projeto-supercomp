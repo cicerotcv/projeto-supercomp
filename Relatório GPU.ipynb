{
 "cells": [
  {
   "cell_type": "markdown",
   "metadata": {},
   "source": [
    "# Relatório GPU\n",
    "\n",
    "Supercomputação: Cicero Tiago"
   ]
  },
  {
   "cell_type": "markdown",
   "metadata": {},
   "source": [
    "### Algoritmo de Smith-Waterman + Busca Exaustiva\n",
    "\n",
    "Uma cálculo simples do _score_ utilizando o algoritmo de Smith-Waterman pode ser \n",
    "definido como a seguir, sendo $S_{i,j}$ o _score_ do elemento posicionado na linha \n",
    "$i$ e coluna $j$ da matriz utilizada para o cálculo:\n",
    "\n",
    "$$ \n",
    "S_{i,j} = max\\begin{Bmatrix}\n",
    "S_{i-1, j-1} + 2, & a_i = b_j \\\\ \n",
    "S_{i-1, j-1} - 1,  & a_i \\neq b_j\\\\ \n",
    "S_{i-1, j} - 1 &  b_j = -\\\\\n",
    "S_{i, j-1} - 1 &  a_i = -\\\\ \n",
    "0 & \n",
    "\\end{Bmatrix}\n",
    "$$ \n",
    "\n",
    "Como podemos ver, o cálculo do score de um elemento só depende do score de elementos \n",
    "imediatamente anteriores. Com isso, esse cálculo pode ser dividido em duas etapas:\n",
    "\n",
    "**Primeira Etapa:**  depende apenas do score dos elementos na **linha** anterior.\n",
    "\n",
    "$$ \n",
    "S_{temp}(i,j) = max\\begin{Bmatrix}\n",
    "S_{i-1, j-1} + 2, & a_i = b_j \\\\ \n",
    "S_{i-1, j-1} - 1,  & a_i \\neq b_j\\\\ \n",
    "S_{i, j-1} - 1 &  b_j = -\\\\\n",
    "0 & \n",
    "\\end{Bmatrix}\n",
    "$$ \n",
    "\n",
    "**Segunda Etapa:** depende apenas do cálculo da etapa anterior e do score do elemento na coluna anterior.\n",
    "\n",
    "$$ \n",
    "S_{i,j} = max\\begin{Bmatrix}\n",
    "S_{temp}(i,j) & \\\\ \n",
    "S_{temp}(i-1, j) - 1 &  \\\\\n",
    "0 & \n",
    "\\end{Bmatrix}\n",
    "$$"
   ]
  },
  {
   "cell_type": "markdown",
   "metadata": {},
   "source": [
    "### Implementação\n",
    "\n",
    "#### Leitura do aqruivo\n",
    "\n",
    "Ler o arquivo de entrada que segue um padrão de acordo com a descrição a seguir:\\\n",
    "**L1**: inteiro N representando o tamanho da primeira sequência \\\n",
    "**L2**: inteiro M representando o tamanho da segunda sequência \\\n",
    "**L3**: sequencia 1 de tamanho N \\\n",
    "**L4**: sequencia 2 tamanho M\n",
    "\n",
    "Cada sequência do arquivo de entrada pode então ser guardada em um `std::vector<char>`. Chamaremos a sequência de tamanho N de A e a de tamanho M de B.\n",
    "\n",
    "#### Gerar subsequências\n",
    "\n",
    "Uma vez que cada subsequência representa um conjunto sequencial de caracteres contidos na sequência maior, cada uma delas pode ser definida por dois números inteiros, aqui chamados de `start` e `length`. \n",
    "\n",
    "Sendo assim, pode ser definida uma função que recebe 3 argumentos (sequência, ponto de início e tamanho) e devolve a subsequência do tipo `std::string`.\n",
    "\n",
    "```cpp\n",
    "std::string get_subsequence(std::string String, int start, int length) {\n",
    "  return String.substr(start, length);\n",
    "}\n",
    "```\n",
    "\n",
    "Agora que é possível gerar subsequências, podemos gerar todas as subsequências de A, todas as subsequências de B e cruzar todas contra todas. Analisando quantitativamente, o número de comparações cresce bem rápidamente:\n",
    "\n",
    "Seja A uma sequência de 4 bases nitrogenadas: ACCA;\\\n",
    "Seja B uma sequência de 4 bases nitrogenadas: GTGT;\n",
    "\n",
    "As subsequências de A são 10: A C C A AC CC CA ACC CCA ACCA;\\\n",
    "As subsequências de B são 10: G T G T GT TG GT GTG TGT GTGT;\n",
    "\n",
    "Com isso, para realizara busca exaustiva entre A e B, cada uma de tamanho 4, seriam necessárias 10 vezes 10 comparações. Para oti\n"
   ]
  }
 ],
 "metadata": {
  "language_info": {
   "name": "python"
  },
  "orig_nbformat": 4
 },
 "nbformat": 4,
 "nbformat_minor": 2
}
